{
  "nbformat": 4,
  "nbformat_minor": 0,
  "metadata": {
    "colab": {
      "provenance": [],
      "collapsed_sections": [],
      "authorship_tag": "ABX9TyPxid4ZnfWDWs4wsC0CWbjF",
      "include_colab_link": true
    },
    "kernelspec": {
      "name": "python3",
      "display_name": "Python 3"
    },
    "language_info": {
      "name": "python"
    }
  },
  "cells": [
    {
      "cell_type": "markdown",
      "metadata": {
        "id": "view-in-github",
        "colab_type": "text"
      },
      "source": [
        "<a href=\"https://colab.research.google.com/github/TKTRON44/Teste-_T-cnico-BIX-t-cnologia/blob/main/Teste_T%C3%A9cnico_Vaga_Cientista_de_Dados_Junior_(Remoto).ipynb\" target=\"_parent\"><img src=\"https://colab.research.google.com/assets/colab-badge.svg\" alt=\"Open In Colab\"/></a>"
      ]
    },
    {
      "cell_type": "markdown",
      "source": [
        "Importando a cópia da base de dados do teste técnico (Foi importado em formado .xlsx para facilitar a importação dos sheets da planilha)"
      ],
      "metadata": {
        "id": "pO8Pp6cC8Yej"
      }
    },
    {
      "cell_type": "code",
      "source": [
        "import pandas as pd"
      ],
      "metadata": {
        "id": "I6lublSP8YHZ"
      },
      "execution_count": null,
      "outputs": []
    },
    {
      "cell_type": "code",
      "source": [
        "url = \"https://docs.google.com/spreadsheets/d/e/2PACX-1vSnajmMmzUAsJlBn1QMfF5MEIpaJ67JDawTieh_7rnmPIHJfgNTi7YDeUBYOPPAqQ/pub?output=xlsx\"\n",
        "sh1 = pd.read_excel(url, 'Sheet1')\n",
        "sh2 = pd.read_excel(url, 'Sheet2')\n",
        "sh3 = pd.read_excel(url, 'Sheet3')\n",
        "sh4 = pd.read_excel(url, 'Sheet4')"
      ],
      "metadata": {
        "id": "ZQQwSYne8_7c"
      },
      "execution_count": null,
      "outputs": []
    },
    {
      "cell_type": "code",
      "source": [
        "sh1.sample(5)"
      ],
      "metadata": {
        "colab": {
          "base_uri": "https://localhost:8080/",
          "height": 206
        },
        "id": "Cv8eWWiW9Nvf",
        "outputId": "63212169-ba4a-4c86-fac4-0bad6fa68243"
      },
      "execution_count": null,
      "outputs": [
        {
          "output_type": "execute_result",
          "data": {
            "text/plain": [
              "       Unnamed: 0                                ID  \\\n",
              "25192         NaN  cd796930ba8c7ed14c79e469aa87c22a   \n",
              "13159         NaN  135abbc3c51d35902766fc491caf6418   \n",
              "4129          NaN  b7a0ea17f1dbc85ecfa3dd355610d472   \n",
              "26803         NaN  291cc6d48f9475a822aecd9c9a78d4ac   \n",
              "21458         NaN  9ddf4a39b3954edb7d4d84471f3229ea   \n",
              "\n",
              "                               ProductID  ClientID  Discount  UnitPrice  \\\n",
              "25192  001c5d71ac6ad696d22315953758fa043   25298.0      0.10      226.8   \n",
              "13159  002159fe700ed3521f46cfcf6e941c763   19852.0      0.10      156.8   \n",
              "4129   001b237c0e9bb435f2e54071129237e93   15864.0      0.10      162.4   \n",
              "26803  003128f981470c3e5a2e7445e4a771cd3   26007.0      0.08      161.0   \n",
              "21458  001b72dfd63e9833e8c02742adf472e33   23611.0      0.10      201.6   \n",
              "\n",
              "       Quantity  StoreID       Date  \n",
              "25192       1.0      3.0 2018-07-15  \n",
              "13159       1.0      3.0 2019-09-13  \n",
              "4129        1.0      1.0 2018-07-15  \n",
              "26803       2.0      4.0 2019-12-25  \n",
              "21458       1.0      4.0 2018-07-28  "
            ],
            "text/html": [
              "\n",
              "  <div id=\"df-481ad471-d4a0-4dde-b4e3-43bed1af6586\">\n",
              "    <div class=\"colab-df-container\">\n",
              "      <div>\n",
              "<style scoped>\n",
              "    .dataframe tbody tr th:only-of-type {\n",
              "        vertical-align: middle;\n",
              "    }\n",
              "\n",
              "    .dataframe tbody tr th {\n",
              "        vertical-align: top;\n",
              "    }\n",
              "\n",
              "    .dataframe thead th {\n",
              "        text-align: right;\n",
              "    }\n",
              "</style>\n",
              "<table border=\"1\" class=\"dataframe\">\n",
              "  <thead>\n",
              "    <tr style=\"text-align: right;\">\n",
              "      <th></th>\n",
              "      <th>Unnamed: 0</th>\n",
              "      <th>ID</th>\n",
              "      <th>ProductID</th>\n",
              "      <th>ClientID</th>\n",
              "      <th>Discount</th>\n",
              "      <th>UnitPrice</th>\n",
              "      <th>Quantity</th>\n",
              "      <th>StoreID</th>\n",
              "      <th>Date</th>\n",
              "    </tr>\n",
              "  </thead>\n",
              "  <tbody>\n",
              "    <tr>\n",
              "      <th>25192</th>\n",
              "      <td>NaN</td>\n",
              "      <td>cd796930ba8c7ed14c79e469aa87c22a</td>\n",
              "      <td>001c5d71ac6ad696d22315953758fa043</td>\n",
              "      <td>25298.0</td>\n",
              "      <td>0.10</td>\n",
              "      <td>226.8</td>\n",
              "      <td>1.0</td>\n",
              "      <td>3.0</td>\n",
              "      <td>2018-07-15</td>\n",
              "    </tr>\n",
              "    <tr>\n",
              "      <th>13159</th>\n",
              "      <td>NaN</td>\n",
              "      <td>135abbc3c51d35902766fc491caf6418</td>\n",
              "      <td>002159fe700ed3521f46cfcf6e941c763</td>\n",
              "      <td>19852.0</td>\n",
              "      <td>0.10</td>\n",
              "      <td>156.8</td>\n",
              "      <td>1.0</td>\n",
              "      <td>3.0</td>\n",
              "      <td>2019-09-13</td>\n",
              "    </tr>\n",
              "    <tr>\n",
              "      <th>4129</th>\n",
              "      <td>NaN</td>\n",
              "      <td>b7a0ea17f1dbc85ecfa3dd355610d472</td>\n",
              "      <td>001b237c0e9bb435f2e54071129237e93</td>\n",
              "      <td>15864.0</td>\n",
              "      <td>0.10</td>\n",
              "      <td>162.4</td>\n",
              "      <td>1.0</td>\n",
              "      <td>1.0</td>\n",
              "      <td>2018-07-15</td>\n",
              "    </tr>\n",
              "    <tr>\n",
              "      <th>26803</th>\n",
              "      <td>NaN</td>\n",
              "      <td>291cc6d48f9475a822aecd9c9a78d4ac</td>\n",
              "      <td>003128f981470c3e5a2e7445e4a771cd3</td>\n",
              "      <td>26007.0</td>\n",
              "      <td>0.08</td>\n",
              "      <td>161.0</td>\n",
              "      <td>2.0</td>\n",
              "      <td>4.0</td>\n",
              "      <td>2019-12-25</td>\n",
              "    </tr>\n",
              "    <tr>\n",
              "      <th>21458</th>\n",
              "      <td>NaN</td>\n",
              "      <td>9ddf4a39b3954edb7d4d84471f3229ea</td>\n",
              "      <td>001b72dfd63e9833e8c02742adf472e33</td>\n",
              "      <td>23611.0</td>\n",
              "      <td>0.10</td>\n",
              "      <td>201.6</td>\n",
              "      <td>1.0</td>\n",
              "      <td>4.0</td>\n",
              "      <td>2018-07-28</td>\n",
              "    </tr>\n",
              "  </tbody>\n",
              "</table>\n",
              "</div>\n",
              "      <button class=\"colab-df-convert\" onclick=\"convertToInteractive('df-481ad471-d4a0-4dde-b4e3-43bed1af6586')\"\n",
              "              title=\"Convert this dataframe to an interactive table.\"\n",
              "              style=\"display:none;\">\n",
              "        \n",
              "  <svg xmlns=\"http://www.w3.org/2000/svg\" height=\"24px\"viewBox=\"0 0 24 24\"\n",
              "       width=\"24px\">\n",
              "    <path d=\"M0 0h24v24H0V0z\" fill=\"none\"/>\n",
              "    <path d=\"M18.56 5.44l.94 2.06.94-2.06 2.06-.94-2.06-.94-.94-2.06-.94 2.06-2.06.94zm-11 1L8.5 8.5l.94-2.06 2.06-.94-2.06-.94L8.5 2.5l-.94 2.06-2.06.94zm10 10l.94 2.06.94-2.06 2.06-.94-2.06-.94-.94-2.06-.94 2.06-2.06.94z\"/><path d=\"M17.41 7.96l-1.37-1.37c-.4-.4-.92-.59-1.43-.59-.52 0-1.04.2-1.43.59L10.3 9.45l-7.72 7.72c-.78.78-.78 2.05 0 2.83L4 21.41c.39.39.9.59 1.41.59.51 0 1.02-.2 1.41-.59l7.78-7.78 2.81-2.81c.8-.78.8-2.07 0-2.86zM5.41 20L4 18.59l7.72-7.72 1.47 1.35L5.41 20z\"/>\n",
              "  </svg>\n",
              "      </button>\n",
              "      \n",
              "  <style>\n",
              "    .colab-df-container {\n",
              "      display:flex;\n",
              "      flex-wrap:wrap;\n",
              "      gap: 12px;\n",
              "    }\n",
              "\n",
              "    .colab-df-convert {\n",
              "      background-color: #E8F0FE;\n",
              "      border: none;\n",
              "      border-radius: 50%;\n",
              "      cursor: pointer;\n",
              "      display: none;\n",
              "      fill: #1967D2;\n",
              "      height: 32px;\n",
              "      padding: 0 0 0 0;\n",
              "      width: 32px;\n",
              "    }\n",
              "\n",
              "    .colab-df-convert:hover {\n",
              "      background-color: #E2EBFA;\n",
              "      box-shadow: 0px 1px 2px rgba(60, 64, 67, 0.3), 0px 1px 3px 1px rgba(60, 64, 67, 0.15);\n",
              "      fill: #174EA6;\n",
              "    }\n",
              "\n",
              "    [theme=dark] .colab-df-convert {\n",
              "      background-color: #3B4455;\n",
              "      fill: #D2E3FC;\n",
              "    }\n",
              "\n",
              "    [theme=dark] .colab-df-convert:hover {\n",
              "      background-color: #434B5C;\n",
              "      box-shadow: 0px 1px 3px 1px rgba(0, 0, 0, 0.15);\n",
              "      filter: drop-shadow(0px 1px 2px rgba(0, 0, 0, 0.3));\n",
              "      fill: #FFFFFF;\n",
              "    }\n",
              "  </style>\n",
              "\n",
              "      <script>\n",
              "        const buttonEl =\n",
              "          document.querySelector('#df-481ad471-d4a0-4dde-b4e3-43bed1af6586 button.colab-df-convert');\n",
              "        buttonEl.style.display =\n",
              "          google.colab.kernel.accessAllowed ? 'block' : 'none';\n",
              "\n",
              "        async function convertToInteractive(key) {\n",
              "          const element = document.querySelector('#df-481ad471-d4a0-4dde-b4e3-43bed1af6586');\n",
              "          const dataTable =\n",
              "            await google.colab.kernel.invokeFunction('convertToInteractive',\n",
              "                                                     [key], {});\n",
              "          if (!dataTable) return;\n",
              "\n",
              "          const docLinkHtml = 'Like what you see? Visit the ' +\n",
              "            '<a target=\"_blank\" href=https://colab.research.google.com/notebooks/data_table.ipynb>data table notebook</a>'\n",
              "            + ' to learn more about interactive tables.';\n",
              "          element.innerHTML = '';\n",
              "          dataTable['output_type'] = 'display_data';\n",
              "          await google.colab.output.renderOutput(dataTable, element);\n",
              "          const docLink = document.createElement('div');\n",
              "          docLink.innerHTML = docLinkHtml;\n",
              "          element.appendChild(docLink);\n",
              "        }\n",
              "      </script>\n",
              "    </div>\n",
              "  </div>\n",
              "  "
            ]
          },
          "metadata": {},
          "execution_count": 3
        }
      ]
    },
    {
      "cell_type": "code",
      "source": [
        "sh1[\"ClientID\"][18044]  #teste"
      ],
      "metadata": {
        "colab": {
          "base_uri": "https://localhost:8080/"
        },
        "id": "nwBd_Fi5_12Y",
        "outputId": "3b2eb55b-a516-48bb-b3e6-827d91cdc944"
      },
      "execution_count": null,
      "outputs": [
        {
          "output_type": "execute_result",
          "data": {
            "text/plain": [
              "22053.0"
            ]
          },
          "metadata": {},
          "execution_count": 4
        }
      ]
    },
    {
      "cell_type": "code",
      "source": [
        "sh2.head(5)"
      ],
      "metadata": {
        "colab": {
          "base_uri": "https://localhost:8080/",
          "height": 206
        },
        "id": "SCxln7NEBbD-",
        "outputId": "cd67dc3d-4680-4256-c27d-e768d26fe1be"
      },
      "execution_count": null,
      "outputs": [
        {
          "output_type": "execute_result",
          "data": {
            "text/plain": [
              "                                  ID             Name Size\n",
              "0  00066f42aeeb9f3007548bb9d3f33c381  Capitão América    P\n",
              "1  00066f42aeeb9f3007548bb9d3f33c382  Capitão América    M\n",
              "2  00066f42aeeb9f3007548bb9d3f33c383  Capitão América    G\n",
              "3  00088930e925c41fd95ebfe695fd26551             Thor    P\n",
              "4  00088930e925c41fd95ebfe695fd26552             Thor    M"
            ],
            "text/html": [
              "\n",
              "  <div id=\"df-83ade527-10b5-4b56-af4c-cece7e7964ad\">\n",
              "    <div class=\"colab-df-container\">\n",
              "      <div>\n",
              "<style scoped>\n",
              "    .dataframe tbody tr th:only-of-type {\n",
              "        vertical-align: middle;\n",
              "    }\n",
              "\n",
              "    .dataframe tbody tr th {\n",
              "        vertical-align: top;\n",
              "    }\n",
              "\n",
              "    .dataframe thead th {\n",
              "        text-align: right;\n",
              "    }\n",
              "</style>\n",
              "<table border=\"1\" class=\"dataframe\">\n",
              "  <thead>\n",
              "    <tr style=\"text-align: right;\">\n",
              "      <th></th>\n",
              "      <th>ID</th>\n",
              "      <th>Name</th>\n",
              "      <th>Size</th>\n",
              "    </tr>\n",
              "  </thead>\n",
              "  <tbody>\n",
              "    <tr>\n",
              "      <th>0</th>\n",
              "      <td>00066f42aeeb9f3007548bb9d3f33c381</td>\n",
              "      <td>Capitão América</td>\n",
              "      <td>P</td>\n",
              "    </tr>\n",
              "    <tr>\n",
              "      <th>1</th>\n",
              "      <td>00066f42aeeb9f3007548bb9d3f33c382</td>\n",
              "      <td>Capitão América</td>\n",
              "      <td>M</td>\n",
              "    </tr>\n",
              "    <tr>\n",
              "      <th>2</th>\n",
              "      <td>00066f42aeeb9f3007548bb9d3f33c383</td>\n",
              "      <td>Capitão América</td>\n",
              "      <td>G</td>\n",
              "    </tr>\n",
              "    <tr>\n",
              "      <th>3</th>\n",
              "      <td>00088930e925c41fd95ebfe695fd26551</td>\n",
              "      <td>Thor</td>\n",
              "      <td>P</td>\n",
              "    </tr>\n",
              "    <tr>\n",
              "      <th>4</th>\n",
              "      <td>00088930e925c41fd95ebfe695fd26552</td>\n",
              "      <td>Thor</td>\n",
              "      <td>M</td>\n",
              "    </tr>\n",
              "  </tbody>\n",
              "</table>\n",
              "</div>\n",
              "      <button class=\"colab-df-convert\" onclick=\"convertToInteractive('df-83ade527-10b5-4b56-af4c-cece7e7964ad')\"\n",
              "              title=\"Convert this dataframe to an interactive table.\"\n",
              "              style=\"display:none;\">\n",
              "        \n",
              "  <svg xmlns=\"http://www.w3.org/2000/svg\" height=\"24px\"viewBox=\"0 0 24 24\"\n",
              "       width=\"24px\">\n",
              "    <path d=\"M0 0h24v24H0V0z\" fill=\"none\"/>\n",
              "    <path d=\"M18.56 5.44l.94 2.06.94-2.06 2.06-.94-2.06-.94-.94-2.06-.94 2.06-2.06.94zm-11 1L8.5 8.5l.94-2.06 2.06-.94-2.06-.94L8.5 2.5l-.94 2.06-2.06.94zm10 10l.94 2.06.94-2.06 2.06-.94-2.06-.94-.94-2.06-.94 2.06-2.06.94z\"/><path d=\"M17.41 7.96l-1.37-1.37c-.4-.4-.92-.59-1.43-.59-.52 0-1.04.2-1.43.59L10.3 9.45l-7.72 7.72c-.78.78-.78 2.05 0 2.83L4 21.41c.39.39.9.59 1.41.59.51 0 1.02-.2 1.41-.59l7.78-7.78 2.81-2.81c.8-.78.8-2.07 0-2.86zM5.41 20L4 18.59l7.72-7.72 1.47 1.35L5.41 20z\"/>\n",
              "  </svg>\n",
              "      </button>\n",
              "      \n",
              "  <style>\n",
              "    .colab-df-container {\n",
              "      display:flex;\n",
              "      flex-wrap:wrap;\n",
              "      gap: 12px;\n",
              "    }\n",
              "\n",
              "    .colab-df-convert {\n",
              "      background-color: #E8F0FE;\n",
              "      border: none;\n",
              "      border-radius: 50%;\n",
              "      cursor: pointer;\n",
              "      display: none;\n",
              "      fill: #1967D2;\n",
              "      height: 32px;\n",
              "      padding: 0 0 0 0;\n",
              "      width: 32px;\n",
              "    }\n",
              "\n",
              "    .colab-df-convert:hover {\n",
              "      background-color: #E2EBFA;\n",
              "      box-shadow: 0px 1px 2px rgba(60, 64, 67, 0.3), 0px 1px 3px 1px rgba(60, 64, 67, 0.15);\n",
              "      fill: #174EA6;\n",
              "    }\n",
              "\n",
              "    [theme=dark] .colab-df-convert {\n",
              "      background-color: #3B4455;\n",
              "      fill: #D2E3FC;\n",
              "    }\n",
              "\n",
              "    [theme=dark] .colab-df-convert:hover {\n",
              "      background-color: #434B5C;\n",
              "      box-shadow: 0px 1px 3px 1px rgba(0, 0, 0, 0.15);\n",
              "      filter: drop-shadow(0px 1px 2px rgba(0, 0, 0, 0.3));\n",
              "      fill: #FFFFFF;\n",
              "    }\n",
              "  </style>\n",
              "\n",
              "      <script>\n",
              "        const buttonEl =\n",
              "          document.querySelector('#df-83ade527-10b5-4b56-af4c-cece7e7964ad button.colab-df-convert');\n",
              "        buttonEl.style.display =\n",
              "          google.colab.kernel.accessAllowed ? 'block' : 'none';\n",
              "\n",
              "        async function convertToInteractive(key) {\n",
              "          const element = document.querySelector('#df-83ade527-10b5-4b56-af4c-cece7e7964ad');\n",
              "          const dataTable =\n",
              "            await google.colab.kernel.invokeFunction('convertToInteractive',\n",
              "                                                     [key], {});\n",
              "          if (!dataTable) return;\n",
              "\n",
              "          const docLinkHtml = 'Like what you see? Visit the ' +\n",
              "            '<a target=\"_blank\" href=https://colab.research.google.com/notebooks/data_table.ipynb>data table notebook</a>'\n",
              "            + ' to learn more about interactive tables.';\n",
              "          element.innerHTML = '';\n",
              "          dataTable['output_type'] = 'display_data';\n",
              "          await google.colab.output.renderOutput(dataTable, element);\n",
              "          const docLink = document.createElement('div');\n",
              "          docLink.innerHTML = docLinkHtml;\n",
              "          element.appendChild(docLink);\n",
              "        }\n",
              "      </script>\n",
              "    </div>\n",
              "  </div>\n",
              "  "
            ]
          },
          "metadata": {},
          "execution_count": 5
        }
      ]
    },
    {
      "cell_type": "code",
      "source": [
        "sh2[\"ID\"][3]  #teste"
      ],
      "metadata": {
        "colab": {
          "base_uri": "https://localhost:8080/",
          "height": 35
        },
        "id": "TAdjN-bvUY3D",
        "outputId": "2f51c0c9-ac70-468d-a377-088fdf3359b6"
      },
      "execution_count": null,
      "outputs": [
        {
          "output_type": "execute_result",
          "data": {
            "text/plain": [
              "'00088930e925c41fd95ebfe695fd26551'"
            ],
            "application/vnd.google.colaboratory.intrinsic+json": {
              "type": "string"
            }
          },
          "metadata": {},
          "execution_count": 6
        }
      ]
    },
    {
      "cell_type": "code",
      "source": [
        "sh1.info()"
      ],
      "metadata": {
        "colab": {
          "base_uri": "https://localhost:8080/"
        },
        "id": "aCmaBZ2_YJBo",
        "outputId": "0072e13f-8af1-48cf-8285-421832cec1c4"
      },
      "execution_count": null,
      "outputs": [
        {
          "output_type": "stream",
          "name": "stdout",
          "text": [
            "<class 'pandas.core.frame.DataFrame'>\n",
            "RangeIndex: 32753 entries, 0 to 32752\n",
            "Data columns (total 9 columns):\n",
            " #   Column      Non-Null Count  Dtype         \n",
            "---  ------      --------------  -----         \n",
            " 0   Unnamed: 0  0 non-null      float64       \n",
            " 1   ID          32753 non-null  object        \n",
            " 2   ProductID   32753 non-null  object        \n",
            " 3   ClientID    32753 non-null  float64       \n",
            " 4   Discount    32753 non-null  float64       \n",
            " 5   UnitPrice   32753 non-null  float64       \n",
            " 6   Quantity    32753 non-null  float64       \n",
            " 7   StoreID     32753 non-null  float64       \n",
            " 8   Date        32753 non-null  datetime64[ns]\n",
            "dtypes: datetime64[ns](1), float64(6), object(2)\n",
            "memory usage: 2.2+ MB\n"
          ]
        }
      ]
    },
    {
      "cell_type": "code",
      "source": [
        "sh1[[\"ClientID\", \"Date\"]] #teste"
      ],
      "metadata": {
        "colab": {
          "base_uri": "https://localhost:8080/",
          "height": 424
        },
        "id": "EfnyHW34Zqp6",
        "outputId": "34446a12-6721-48c0-f559-6ccdaf203b26"
      },
      "execution_count": null,
      "outputs": [
        {
          "output_type": "execute_result",
          "data": {
            "text/plain": [
              "       ClientID       Date\n",
              "0       14001.0 2018-12-10\n",
              "1       14001.0 2019-04-25\n",
              "2       14001.0 2019-07-17\n",
              "3       14002.0 2018-04-10\n",
              "4       14002.0 2019-01-21\n",
              "...         ...        ...\n",
              "32748   28694.0 2018-12-02\n",
              "32749   28694.0 2018-12-05\n",
              "32750   28694.0 2019-08-01\n",
              "32751   28694.0 2019-11-25\n",
              "32752   28695.0 2018-07-04\n",
              "\n",
              "[32753 rows x 2 columns]"
            ],
            "text/html": [
              "\n",
              "  <div id=\"df-705b3c6f-5f87-491b-8f55-7894ba4fc979\">\n",
              "    <div class=\"colab-df-container\">\n",
              "      <div>\n",
              "<style scoped>\n",
              "    .dataframe tbody tr th:only-of-type {\n",
              "        vertical-align: middle;\n",
              "    }\n",
              "\n",
              "    .dataframe tbody tr th {\n",
              "        vertical-align: top;\n",
              "    }\n",
              "\n",
              "    .dataframe thead th {\n",
              "        text-align: right;\n",
              "    }\n",
              "</style>\n",
              "<table border=\"1\" class=\"dataframe\">\n",
              "  <thead>\n",
              "    <tr style=\"text-align: right;\">\n",
              "      <th></th>\n",
              "      <th>ClientID</th>\n",
              "      <th>Date</th>\n",
              "    </tr>\n",
              "  </thead>\n",
              "  <tbody>\n",
              "    <tr>\n",
              "      <th>0</th>\n",
              "      <td>14001.0</td>\n",
              "      <td>2018-12-10</td>\n",
              "    </tr>\n",
              "    <tr>\n",
              "      <th>1</th>\n",
              "      <td>14001.0</td>\n",
              "      <td>2019-04-25</td>\n",
              "    </tr>\n",
              "    <tr>\n",
              "      <th>2</th>\n",
              "      <td>14001.0</td>\n",
              "      <td>2019-07-17</td>\n",
              "    </tr>\n",
              "    <tr>\n",
              "      <th>3</th>\n",
              "      <td>14002.0</td>\n",
              "      <td>2018-04-10</td>\n",
              "    </tr>\n",
              "    <tr>\n",
              "      <th>4</th>\n",
              "      <td>14002.0</td>\n",
              "      <td>2019-01-21</td>\n",
              "    </tr>\n",
              "    <tr>\n",
              "      <th>...</th>\n",
              "      <td>...</td>\n",
              "      <td>...</td>\n",
              "    </tr>\n",
              "    <tr>\n",
              "      <th>32748</th>\n",
              "      <td>28694.0</td>\n",
              "      <td>2018-12-02</td>\n",
              "    </tr>\n",
              "    <tr>\n",
              "      <th>32749</th>\n",
              "      <td>28694.0</td>\n",
              "      <td>2018-12-05</td>\n",
              "    </tr>\n",
              "    <tr>\n",
              "      <th>32750</th>\n",
              "      <td>28694.0</td>\n",
              "      <td>2019-08-01</td>\n",
              "    </tr>\n",
              "    <tr>\n",
              "      <th>32751</th>\n",
              "      <td>28694.0</td>\n",
              "      <td>2019-11-25</td>\n",
              "    </tr>\n",
              "    <tr>\n",
              "      <th>32752</th>\n",
              "      <td>28695.0</td>\n",
              "      <td>2018-07-04</td>\n",
              "    </tr>\n",
              "  </tbody>\n",
              "</table>\n",
              "<p>32753 rows × 2 columns</p>\n",
              "</div>\n",
              "      <button class=\"colab-df-convert\" onclick=\"convertToInteractive('df-705b3c6f-5f87-491b-8f55-7894ba4fc979')\"\n",
              "              title=\"Convert this dataframe to an interactive table.\"\n",
              "              style=\"display:none;\">\n",
              "        \n",
              "  <svg xmlns=\"http://www.w3.org/2000/svg\" height=\"24px\"viewBox=\"0 0 24 24\"\n",
              "       width=\"24px\">\n",
              "    <path d=\"M0 0h24v24H0V0z\" fill=\"none\"/>\n",
              "    <path d=\"M18.56 5.44l.94 2.06.94-2.06 2.06-.94-2.06-.94-.94-2.06-.94 2.06-2.06.94zm-11 1L8.5 8.5l.94-2.06 2.06-.94-2.06-.94L8.5 2.5l-.94 2.06-2.06.94zm10 10l.94 2.06.94-2.06 2.06-.94-2.06-.94-.94-2.06-.94 2.06-2.06.94z\"/><path d=\"M17.41 7.96l-1.37-1.37c-.4-.4-.92-.59-1.43-.59-.52 0-1.04.2-1.43.59L10.3 9.45l-7.72 7.72c-.78.78-.78 2.05 0 2.83L4 21.41c.39.39.9.59 1.41.59.51 0 1.02-.2 1.41-.59l7.78-7.78 2.81-2.81c.8-.78.8-2.07 0-2.86zM5.41 20L4 18.59l7.72-7.72 1.47 1.35L5.41 20z\"/>\n",
              "  </svg>\n",
              "      </button>\n",
              "      \n",
              "  <style>\n",
              "    .colab-df-container {\n",
              "      display:flex;\n",
              "      flex-wrap:wrap;\n",
              "      gap: 12px;\n",
              "    }\n",
              "\n",
              "    .colab-df-convert {\n",
              "      background-color: #E8F0FE;\n",
              "      border: none;\n",
              "      border-radius: 50%;\n",
              "      cursor: pointer;\n",
              "      display: none;\n",
              "      fill: #1967D2;\n",
              "      height: 32px;\n",
              "      padding: 0 0 0 0;\n",
              "      width: 32px;\n",
              "    }\n",
              "\n",
              "    .colab-df-convert:hover {\n",
              "      background-color: #E2EBFA;\n",
              "      box-shadow: 0px 1px 2px rgba(60, 64, 67, 0.3), 0px 1px 3px 1px rgba(60, 64, 67, 0.15);\n",
              "      fill: #174EA6;\n",
              "    }\n",
              "\n",
              "    [theme=dark] .colab-df-convert {\n",
              "      background-color: #3B4455;\n",
              "      fill: #D2E3FC;\n",
              "    }\n",
              "\n",
              "    [theme=dark] .colab-df-convert:hover {\n",
              "      background-color: #434B5C;\n",
              "      box-shadow: 0px 1px 3px 1px rgba(0, 0, 0, 0.15);\n",
              "      filter: drop-shadow(0px 1px 2px rgba(0, 0, 0, 0.3));\n",
              "      fill: #FFFFFF;\n",
              "    }\n",
              "  </style>\n",
              "\n",
              "      <script>\n",
              "        const buttonEl =\n",
              "          document.querySelector('#df-705b3c6f-5f87-491b-8f55-7894ba4fc979 button.colab-df-convert');\n",
              "        buttonEl.style.display =\n",
              "          google.colab.kernel.accessAllowed ? 'block' : 'none';\n",
              "\n",
              "        async function convertToInteractive(key) {\n",
              "          const element = document.querySelector('#df-705b3c6f-5f87-491b-8f55-7894ba4fc979');\n",
              "          const dataTable =\n",
              "            await google.colab.kernel.invokeFunction('convertToInteractive',\n",
              "                                                     [key], {});\n",
              "          if (!dataTable) return;\n",
              "\n",
              "          const docLinkHtml = 'Like what you see? Visit the ' +\n",
              "            '<a target=\"_blank\" href=https://colab.research.google.com/notebooks/data_table.ipynb>data table notebook</a>'\n",
              "            + ' to learn more about interactive tables.';\n",
              "          element.innerHTML = '';\n",
              "          dataTable['output_type'] = 'display_data';\n",
              "          await google.colab.output.renderOutput(dataTable, element);\n",
              "          const docLink = document.createElement('div');\n",
              "          docLink.innerHTML = docLinkHtml;\n",
              "          element.appendChild(docLink);\n",
              "        }\n",
              "      </script>\n",
              "    </div>\n",
              "  </div>\n",
              "  "
            ]
          },
          "metadata": {},
          "execution_count": 8
        }
      ]
    },
    {
      "cell_type": "code",
      "source": [
        "import seaborn as sns\n",
        "import matplotlib.pyplot as plt\n",
        "\n",
        "sns.set()\n",
        "gsh4 = sns.histplot(sh4, x=\"State\", y=\"ID\",edgecolor=\".5\", color=\"#FD6B6B\", kde = True)\n",
        "plt.figure(figsize=(10,5))\n",
        "plt.show()\n",
        "gsh4.set_title(\"Gráfico de ID´s por região\")"
      ],
      "metadata": {
        "colab": {
          "base_uri": "https://localhost:8080/",
          "height": 320
        },
        "id": "ALsOeXAwz2a5",
        "outputId": "8fa951af-1403-4fea-ae0c-1bff2b83a30d"
      },
      "execution_count": null,
      "outputs": [
        {
          "output_type": "display_data",
          "data": {
            "text/plain": [
              "<Figure size 432x288 with 1 Axes>"
            ],
            "image/png": "[encoded data removed]"
          },
          "metadata": {}
        },
        {
          "output_type": "display_data",
          "data": {
            "text/plain": [
              "<Figure size 720x360 with 0 Axes>"
            ]
          },
          "metadata": {}
        },
        {
          "output_type": "execute_result",
          "data": {
            "text/plain": [
              "Text(0.5, 1.0, 'Gráfico de ID´s por região')"
            ]
          },
          "metadata": {},
          "execution_count": 18
        }
      ]
    },
    {
      "cell_type": "code",
      "source": [
        "df = pd.DataFrame({'Data': {0: 'May, 10 2020', 1: 'May, 11 2020'}})\n",
        "df['Data'] = pd.to_datetime(df.Data)\n",
        "df['Data'] = df['Data'].dt.strftime('%Y/%m/%d')\n",
        "sh3[[\"DateOfBirth\"]]"
      ],
      "metadata": {
        "colab": {
          "base_uri": "https://localhost:8080/",
          "height": 424
        },
        "id": "RMQ2ZWfwJ3Qp",
        "outputId": "bce63c40-f3d4-4e90-d1b1-80ca79f29a07"
      },
      "execution_count": null,
      "outputs": [
        {
          "output_type": "execute_result",
          "data": {
            "text/plain": [
              "      DateOfBirth\n",
              "0      1985-06-28\n",
              "1      1987-01-10\n",
              "2      1979-11-05\n",
              "3      1983-11-25\n",
              "4      1969-04-07\n",
              "...           ...\n",
              "13645  1999-01-15\n",
              "13646  1956-02-07\n",
              "13647  1985-10-19\n",
              "13648  1982-10-22\n",
              "13649  1961-10-24\n",
              "\n",
              "[13650 rows x 1 columns]"
            ],
            "text/html": [
              "\n",
              "  <div id=\"df-4d33b654-7bc5-4f7f-8099-a5c21be97af5\">\n",
              "    <div class=\"colab-df-container\">\n",
              "      <div>\n",
              "<style scoped>\n",
              "    .dataframe tbody tr th:only-of-type {\n",
              "        vertical-align: middle;\n",
              "    }\n",
              "\n",
              "    .dataframe tbody tr th {\n",
              "        vertical-align: top;\n",
              "    }\n",
              "\n",
              "    .dataframe thead th {\n",
              "        text-align: right;\n",
              "    }\n",
              "</style>\n",
              "<table border=\"1\" class=\"dataframe\">\n",
              "  <thead>\n",
              "    <tr style=\"text-align: right;\">\n",
              "      <th></th>\n",
              "      <th>DateOfBirth</th>\n",
              "    </tr>\n",
              "  </thead>\n",
              "  <tbody>\n",
              "    <tr>\n",
              "      <th>0</th>\n",
              "      <td>1985-06-28</td>\n",
              "    </tr>\n",
              "    <tr>\n",
              "      <th>1</th>\n",
              "      <td>1987-01-10</td>\n",
              "    </tr>\n",
              "    <tr>\n",
              "      <th>2</th>\n",
              "      <td>1979-11-05</td>\n",
              "    </tr>\n",
              "    <tr>\n",
              "      <th>3</th>\n",
              "      <td>1983-11-25</td>\n",
              "    </tr>\n",
              "    <tr>\n",
              "      <th>4</th>\n",
              "      <td>1969-04-07</td>\n",
              "    </tr>\n",
              "    <tr>\n",
              "      <th>...</th>\n",
              "      <td>...</td>\n",
              "    </tr>\n",
              "    <tr>\n",
              "      <th>13645</th>\n",
              "      <td>1999-01-15</td>\n",
              "    </tr>\n",
              "    <tr>\n",
              "      <th>13646</th>\n",
              "      <td>1956-02-07</td>\n",
              "    </tr>\n",
              "    <tr>\n",
              "      <th>13647</th>\n",
              "      <td>1985-10-19</td>\n",
              "    </tr>\n",
              "    <tr>\n",
              "      <th>13648</th>\n",
              "      <td>1982-10-22</td>\n",
              "    </tr>\n",
              "    <tr>\n",
              "      <th>13649</th>\n",
              "      <td>1961-10-24</td>\n",
              "    </tr>\n",
              "  </tbody>\n",
              "</table>\n",
              "<p>13650 rows × 1 columns</p>\n",
              "</div>\n",
              "      <button class=\"colab-df-convert\" onclick=\"convertToInteractive('df-4d33b654-7bc5-4f7f-8099-a5c21be97af5')\"\n",
              "              title=\"Convert this dataframe to an interactive table.\"\n",
              "              style=\"display:none;\">\n",
              "        \n",
              "  <svg xmlns=\"http://www.w3.org/2000/svg\" height=\"24px\"viewBox=\"0 0 24 24\"\n",
              "       width=\"24px\">\n",
              "    <path d=\"M0 0h24v24H0V0z\" fill=\"none\"/>\n",
              "    <path d=\"M18.56 5.44l.94 2.06.94-2.06 2.06-.94-2.06-.94-.94-2.06-.94 2.06-2.06.94zm-11 1L8.5 8.5l.94-2.06 2.06-.94-2.06-.94L8.5 2.5l-.94 2.06-2.06.94zm10 10l.94 2.06.94-2.06 2.06-.94-2.06-.94-.94-2.06-.94 2.06-2.06.94z\"/><path d=\"M17.41 7.96l-1.37-1.37c-.4-.4-.92-.59-1.43-.59-.52 0-1.04.2-1.43.59L10.3 9.45l-7.72 7.72c-.78.78-.78 2.05 0 2.83L4 21.41c.39.39.9.59 1.41.59.51 0 1.02-.2 1.41-.59l7.78-7.78 2.81-2.81c.8-.78.8-2.07 0-2.86zM5.41 20L4 18.59l7.72-7.72 1.47 1.35L5.41 20z\"/>\n",
              "  </svg>\n",
              "      </button>\n",
              "      \n",
              "  <style>\n",
              "    .colab-df-container {\n",
              "      display:flex;\n",
              "      flex-wrap:wrap;\n",
              "      gap: 12px;\n",
              "    }\n",
              "\n",
              "    .colab-df-convert {\n",
              "      background-color: #E8F0FE;\n",
              "      border: none;\n",
              "      border-radius: 50%;\n",
              "      cursor: pointer;\n",
              "      display: none;\n",
              "      fill: #1967D2;\n",
              "      height: 32px;\n",
              "      padding: 0 0 0 0;\n",
              "      width: 32px;\n",
              "    }\n",
              "\n",
              "    .colab-df-convert:hover {\n",
              "      background-color: #E2EBFA;\n",
              "      box-shadow: 0px 1px 2px rgba(60, 64, 67, 0.3), 0px 1px 3px 1px rgba(60, 64, 67, 0.15);\n",
              "      fill: #174EA6;\n",
              "    }\n",
              "\n",
              "    [theme=dark] .colab-df-convert {\n",
              "      background-color: #3B4455;\n",
              "      fill: #D2E3FC;\n",
              "    }\n",
              "\n",
              "    [theme=dark] .colab-df-convert:hover {\n",
              "      background-color: #434B5C;\n",
              "      box-shadow: 0px 1px 3px 1px rgba(0, 0, 0, 0.15);\n",
              "      filter: drop-shadow(0px 1px 2px rgba(0, 0, 0, 0.3));\n",
              "      fill: #FFFFFF;\n",
              "    }\n",
              "  </style>\n",
              "\n",
              "      <script>\n",
              "        const buttonEl =\n",
              "          document.querySelector('#df-4d33b654-7bc5-4f7f-8099-a5c21be97af5 button.colab-df-convert');\n",
              "        buttonEl.style.display =\n",
              "          google.colab.kernel.accessAllowed ? 'block' : 'none';\n",
              "\n",
              "        async function convertToInteractive(key) {\n",
              "          const element = document.querySelector('#df-4d33b654-7bc5-4f7f-8099-a5c21be97af5');\n",
              "          const dataTable =\n",
              "            await google.colab.kernel.invokeFunction('convertToInteractive',\n",
              "                                                     [key], {});\n",
              "          if (!dataTable) return;\n",
              "\n",
              "          const docLinkHtml = 'Like what you see? Visit the ' +\n",
              "            '<a target=\"_blank\" href=https://colab.research.google.com/notebooks/data_table.ipynb>data table notebook</a>'\n",
              "            + ' to learn more about interactive tables.';\n",
              "          element.innerHTML = '';\n",
              "          dataTable['output_type'] = 'display_data';\n",
              "          await google.colab.output.renderOutput(dataTable, element);\n",
              "          const docLink = document.createElement('div');\n",
              "          docLink.innerHTML = docLinkHtml;\n",
              "          element.appendChild(docLink);\n",
              "        }\n",
              "      </script>\n",
              "    </div>\n",
              "  </div>\n",
              "  "
            ]
          },
          "metadata": {},
          "execution_count": 10
        }
      ]
    },
    {
      "cell_type": "code",
      "source": [
        "gsh3 = sns.histplot(sh3, x=\"Sex\", y=\"State\",edgecolor=\".5\", kde = True)\n",
        "plt.figure(figsize=(10,5))\n",
        "plt.show()\n",
        "gsh3.set_title(\"Gráfico de ID´s por região\")"
      ],
      "metadata": {
        "colab": {
          "base_uri": "https://localhost:8080/",
          "height": 320
        },
        "id": "OI9LzivkVCpL",
        "outputId": "83466d4e-c9fc-4c88-c58a-ed212fc0fcbe"
      },
      "execution_count": null,
      "outputs": [
        {
          "output_type": "display_data",
          "data": {
            "text/plain": [
              "<Figure size 432x288 with 1 Axes>"
            ],
            "image/png": "[encoded data removed]"
          },
          "metadata": {}
        },
        {
          "output_type": "display_data",
          "data": {
            "text/plain": [
              "<Figure size 720x360 with 0 Axes>"
            ]
          },
          "metadata": {}
        },
        {
          "output_type": "execute_result",
          "data": {
            "text/plain": [
              "Text(0.5, 1.0, 'Gráfico de ID´s por região')"
            ]
          },
          "metadata": {},
          "execution_count": 11
        }
      ]
    },
    {
      "cell_type": "code",
      "source": [
        "sh1[\"ProductID\"]"
      ],
      "metadata": {
        "id": "cAfYVw8FaUyA",
        "colab": {
          "base_uri": "https://localhost:8080/"
        },
        "outputId": "ff89f1fb-ba51-496f-adef-740e26ad5dda"
      },
      "execution_count": null,
      "outputs": [
        {
          "output_type": "execute_result",
          "data": {
            "text/plain": [
              "0        002552c0663708129c0019cc97552d7d3\n",
              "1        001b237c0e9bb435f2e54071129237e93\n",
              "2        00066f42aeeb9f3007548bb9d3f33c381\n",
              "3        001b72dfd63e9833e8c02742adf472e33\n",
              "4        00210e41887c2a8ef9f791ebc780cc363\n",
              "                       ...                \n",
              "32748    002ec297b1b00fb9dde7ee6ac24b67712\n",
              "32749    002d4ea7c04739c130bb74d7e7cd16943\n",
              "32750    001795ec6f1b187d37335e1c4704762e3\n",
              "32751    002ec297b1b00fb9dde7ee6ac24b67713\n",
              "32752    0009406fd7479715e4bef61dd91f24622\n",
              "Name: ProductID, Length: 32753, dtype: object"
            ]
          },
          "metadata": {},
          "execution_count": 12
        }
      ]
    },
    {
      "cell_type": "code",
      "source": [
        "sh1[\"ProductID\"].value_counts()"
      ],
      "metadata": {
        "colab": {
          "base_uri": "https://localhost:8080/"
        },
        "id": "Q_wvba8nqQBB",
        "outputId": "48c00291-62bd-40c2-8b2e-6bfc719a2d33"
      },
      "execution_count": null,
      "outputs": [
        {
          "output_type": "execute_result",
          "data": {
            "text/plain": [
              "002ec297b1b00fb9dde7ee6ac24b67713    966\n",
              "002d4ea7c04739c130bb74d7e7cd16943    963\n",
              "001c5d71ac6ad696d22315953758fa043    944\n",
              "0011c512eb256aa0dbbb544d8dffcf6e3    940\n",
              "0030026a6ddb3b2d1d4bc225b4b4c4da3    939\n",
              "                                    ... \n",
              "00088930e925c41fd95ebfe695fd26552    205\n",
              "00210e41887c2a8ef9f791ebc780cc362    204\n",
              "002ec297b1b00fb9dde7ee6ac24b67711    202\n",
              "002552c0663708129c0019cc97552d7d2    200\n",
              "001b237c0e9bb435f2e54071129237e92    197\n",
              "Name: ProductID, Length: 73, dtype: int64"
            ]
          },
          "metadata": {},
          "execution_count": 19
        }
      ]
    },
    {
      "cell_type": "code",
      "source": [
        "sh2[\"Name\"].value_counts()"
      ],
      "metadata": {
        "colab": {
          "base_uri": "https://localhost:8080/"
        },
        "id": "3Lq71nndsl8j",
        "outputId": "53f4ecfd-4d67-4e32-c9b4-daf4e629a24e"
      },
      "execution_count": null,
      "outputs": [
        {
          "output_type": "execute_result",
          "data": {
            "text/plain": [
              "Homer Simpsons         4\n",
              "Thor                   3\n",
              "Rick Morty             3\n",
              "League Legends         3\n",
              "Bazinga                3\n",
              "Iron Man               3\n",
              "Darth Vader            3\n",
              "Dragon Ball Z          3\n",
              "Ciclope                3\n",
              "Tempestade             3\n",
              "BIXDream               3\n",
              "Super Mario            3\n",
              "Capitão América        3\n",
              "Naruto                 3\n",
              "Capitã Marvel          3\n",
              "Wolverine              3\n",
              "Thanos                 3\n",
              "Mulher-Maravilha       3\n",
              "Coringa                3\n",
              "Flash                  3\n",
              "Batman                 3\n",
              "Pantera Negra          3\n",
              "Deadpool               3\n",
              "Pokemon Go Squirtle    3\n",
              "Name: Name, dtype: int64"
            ]
          },
          "metadata": {},
          "execution_count": 14
        }
      ]
    },
    {
      "cell_type": "code",
      "source": [
        "eano =  (sh1[\"Date\"] == 2019)"
      ],
      "metadata": {
        "id": "9qRryavbuCWo"
      },
      "execution_count": null,
      "outputs": []
    },
    {
      "cell_type": "code",
      "source": [
        "eano"
      ],
      "metadata": {
        "colab": {
          "base_uri": "https://localhost:8080/"
        },
        "id": "fiwmM60Au5Nb",
        "outputId": "51319103-6e2b-4cda-a963-9b966b472555"
      },
      "execution_count": null,
      "outputs": [
        {
          "output_type": "execute_result",
          "data": {
            "text/plain": [
              "0        False\n",
              "1        False\n",
              "2        False\n",
              "3        False\n",
              "4        False\n",
              "         ...  \n",
              "32748    False\n",
              "32749    False\n",
              "32750    False\n",
              "32751    False\n",
              "32752    False\n",
              "Name: Date, Length: 32753, dtype: bool"
            ]
          },
          "metadata": {},
          "execution_count": 16
        }
      ]
    },
    {
      "cell_type": "code",
      "source": [
        "sh1.UnitPrice.median()"
      ],
      "metadata": {
        "colab": {
          "base_uri": "https://localhost:8080/"
        },
        "id": "IF9lIv5mu7Re",
        "outputId": "4ecefce9-a2e3-4b02-cad5-bfff3732268e"
      },
      "execution_count": null,
      "outputs": [
        {
          "output_type": "execute_result",
          "data": {
            "text/plain": [
              "204.4"
            ]
          },
          "metadata": {},
          "execution_count": 17
        }
      ]
    }
  ]
}